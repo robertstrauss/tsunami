{
 "cells": [
  {
   "cell_type": "code",
   "execution_count": 12,
   "metadata": {},
   "outputs": [],
   "source": [
    "import numba as nb\n",
    "import numpy as np\n",
    "from numba import cuda\n"
   ]
  },
  {
   "cell_type": "code",
   "execution_count": null,
   "metadata": {},
   "outputs": [
    {
     "name": "stdout",
     "output_type": "stream",
     "text": [
      "Blocks per grid: 4\n",
      "Threads per block 32\n"
     ]
    }
   ],
   "source": [
    "import numba as nb\n",
    "import numpy as np\n",
    "from numba import cuda\n",
    "\n",
    "@cuda.jit('void(float32[:], float32[:], float32[:])')\n",
    "def cu_add1(a, b, c):\n",
    "    \"\"\"This kernel function will be executed by a thread.\"\"\"\n",
    "    bx = cuda.blockIdx.x # which block in the grid?\n",
    "    bw = cuda.blockDim.x # what is the size of a block?\n",
    "    tx = cuda.threadIdx.x # unique thread ID within a blcok\n",
    "    i = tx + bx * bw\n",
    "\n",
    "    if i > c.size:\n",
    "        return\n",
    "\n",
    "    c[i] = a[i] + b[i]\n",
    "    \n",
    "    \n",
    "device = cuda.get_current_device()\n",
    "\n",
    "n = 100\n",
    "\n",
    "# Host memory\n",
    "a = np.arange(n, dtype=np.float32)\n",
    "b = np.arange(n, dtype=np.float32)\n",
    "\n",
    "# Assign equivalent storage on device\n",
    "da = cuda.to_device(a)\n",
    "db = cuda.to_device(b)\n",
    "\n",
    "# Assign storage on device for output\n",
    "dc = cuda.device_array_like(a)\n",
    "\n",
    "# Set up enough threads for kernel\n",
    "tpb = device.WARP_SIZE\n",
    "bpg = int(np.ceil(float(n)/tpb))\n",
    "print ('Blocks per grid:', bpg)\n",
    "print ('Threads per block', tpb)\n",
    "\n",
    "# Launch kernel\n",
    "%timeit cu_add1[bpg, tpb](da, db, dc)\n",
    "\n",
    "# Transfer output from device to host\n",
    "c = dc.copy_to_host()\n",
    "\n",
    "print (c)    \n",
    "#\n",
    "@cuda.jit('void(float32[:,:], float32[:,:], float32[:,:])')\n",
    "def cu_add_2d(a, b, c):\n",
    "    \"\"\"This kernel function will be executed by a thread.\"\"\"\n",
    "    i, j  = cuda.grid(2)\n",
    "\n",
    "    if (i < c.shape[0]) and (j < c.shape[1]):\n",
    "        c[i, j] = a[i, j] + b[i, j]\n",
    "    cuda.syncthreads()\n",
    "    \n",
    "    \n",
    "device = cuda.get_current_device()\n",
    "\n",
    "n = 483\n",
    "p = 323\n",
    "a = np.random.random((n, p)).astype(np.float32)\n",
    "b = np.ones((n, p)).astype(np.float32)\n",
    "c = np.empty_like(a)\n",
    "\n",
    "threadsperblock = (32, 32)\n",
    "blockspergrid_x = (n + threadsperblock[0]) // threadsperblock[0]\n",
    "blockspergrid_y = (p + threadsperblock[1]) // threadsperblock[1]\n",
    "blockspergrid = (blockspergrid_x, blockspergrid_y)\n",
    "\n",
    "print (blockspergrid, threadsperblock)\n",
    "cu_add_2d[blockspergrid, threadsperblock](a, b, c)\n",
    "%timeit cu_add_2d[blockspergrid, threadsperblock](a, b, c)\n",
    "print (a[-5:, -5:])\n",
    "print (b[-5:, -5:])\n",
    "print (c[-5:, -5:])\n",
    "\n",
    "cuda.close()  # ha.  needs this."
   ]
  },
  {
   "cell_type": "code",
   "execution_count": 3,
   "metadata": {},
   "outputs": [
    {
     "ename": "NameError",
     "evalue": "name 'A' is not defined",
     "output_type": "error",
     "traceback": [
      "\u001b[0;31m---------------------------------------------------------------------------\u001b[0m",
      "\u001b[0;31mNameError\u001b[0m                                 Traceback (most recent call last)",
      "\u001b[0;32m<ipython-input-3-27626069b48c>\u001b[0m in \u001b[0;36m<module>\u001b[0;34m\u001b[0m\n\u001b[0;32m----> 1\u001b[0;31m \u001b[0mA\u001b[0m\u001b[0;34m=\u001b[0m\u001b[0mnb\u001b[0m\u001b[0;34m.\u001b[0m\u001b[0mSmartArray\u001b[0m\u001b[0;34m(\u001b[0m\u001b[0mA\u001b[0m\u001b[0;34m)\u001b[0m\u001b[0;34m\u001b[0m\u001b[0;34m\u001b[0m\u001b[0m\n\u001b[0m\u001b[1;32m      2\u001b[0m \u001b[0mB\u001b[0m\u001b[0;34m=\u001b[0m\u001b[0mnb\u001b[0m\u001b[0;34m.\u001b[0m\u001b[0mSmartArray\u001b[0m\u001b[0;34m(\u001b[0m\u001b[0mB\u001b[0m\u001b[0;34m)\u001b[0m\u001b[0;34m\u001b[0m\u001b[0;34m\u001b[0m\u001b[0m\n\u001b[1;32m      3\u001b[0m \u001b[0mC\u001b[0m\u001b[0;34m=\u001b[0m\u001b[0mnb\u001b[0m\u001b[0;34m.\u001b[0m\u001b[0mSmartArray\u001b[0m\u001b[0;34m(\u001b[0m\u001b[0mC\u001b[0m\u001b[0;34m)\u001b[0m\u001b[0;34m\u001b[0m\u001b[0;34m\u001b[0m\u001b[0m\n",
      "\u001b[0;31mNameError\u001b[0m: name 'A' is not defined"
     ]
    }
   ],
   "source": [
    "A=nb.SmartArray(A)\n",
    "B=nb.SmartArray(B)\n",
    "C=nb.SmartArray(C)"
   ]
  }
 ],
 "metadata": {
  "kernelspec": {
   "display_name": "Python 3",
   "language": "python",
   "name": "python3"
  },
  "language_info": {
   "codemirror_mode": {
    "name": "ipython",
    "version": 3
   },
   "file_extension": ".py",
   "mimetype": "text/x-python",
   "name": "python",
   "nbconvert_exporter": "python",
   "pygments_lexer": "ipython3",
   "version": "3.7.2"
  }
 },
 "nbformat": 4,
 "nbformat_minor": 2
}
