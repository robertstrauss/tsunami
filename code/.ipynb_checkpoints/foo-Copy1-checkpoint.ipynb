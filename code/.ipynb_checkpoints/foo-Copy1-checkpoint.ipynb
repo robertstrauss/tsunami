{
 "cells": [
  {
   "cell_type": "code",
   "execution_count": 1,
   "metadata": {},
   "outputs": [],
   "source": [
    "import numpy as np\n",
    "import cupy as qp\n",
    "import pylab as pl\n",
    "import numba as nb\n",
    "import timeit\n",
    "xp = qp"
   ]
  },
  {
   "cell_type": "code",
   "execution_count": 2,
   "metadata": {},
   "outputs": [
    {
     "data": {
      "text/plain": [
       "11.0"
      ]
     },
     "execution_count": 2,
     "metadata": {},
     "output_type": "execute_result"
    }
   ],
   "source": [
    "NX = 20000\n",
    "NY = 40000\n",
    "nx = 2000\n",
    "ny = 4000\n",
    "steps = 50\n",
    "overX = steps\n",
    "overY = 10\n",
    "np.ceil(NY/(ny-overY))"
   ]
  },
  {
   "cell_type": "code",
   "execution_count": null,
   "metadata": {},
   "outputs": [],
   "source": []
  },
  {
   "cell_type": "code",
   "execution_count": 3,
   "metadata": {},
   "outputs": [],
   "source": [
    "A = np.arange((NX*NY),dtype=np.float32).reshape((NX,NY)) \n",
    "AMAX = A.copy()\n",
    "AMIN = A.copy() # ((NX,NY))"
   ]
  },
  {
   "cell_type": "code",
   "execution_count": 4,
   "metadata": {},
   "outputs": [],
   "source": [
    "xp = qp\n",
    "#@nb.njit()\n",
    "#@xp.fuse() # this fails because fuse doesn't like indexing.\n",
    "def diffit(A,B,DX):\n",
    "    B[:,0:-1] = (A[:,1:]-A[:,0:-1])/DX\n",
    "    B[:,-1]= B.dtype.type(0.0)  # I may not need this in the patchwise\n",
    "    #print (B.dtype,B.shape)\n",
    "    return \n"
   ]
  },
  {
   "cell_type": "code",
   "execution_count": 5,
   "metadata": {},
   "outputs": [],
   "source": [
    "#@nb.njit()\n",
    "def blockcomp(B,DX,NX=NX,NY=NY,nx=nx,ny=ny,overX=overX,overY=overY):\n",
    "    A = xp.empty((nx,ny),dtype=xp.float32)\n",
    "    C = xp.empty((nx,ny),dtype=A.dtype)\n",
    "    for i in range(0, NX, nx-overX):\n",
    "        for j in range(0, NY,ny-overY):\n",
    "            tmp = B[i:i+nx,j:j+ny]  # subscripts past ends will truncate!\n",
    "            U = tmp.shape           # therefore we need to see what shape really is\n",
    "            A[:U[0],:U[1]] = xp.asarray(tmp)\n",
    "            AP = A[:U[0],:U[1]]\n",
    "            D = C[:U[0],:U[1]]\n",
    "            for s in range(steps):\n",
    "                 diffit(AP,D,DX) \n",
    "                 AP,D = D,AP\n",
    "            tmp[:,:] = qp.asnumpy(AP) # put it back in same home\n",
    "blockcomp(A,2)               "
   ]
  },
  {
   "cell_type": "code",
   "execution_count": 6,
   "metadata": {},
   "outputs": [
    {
     "name": "stdout",
     "output_type": "stream",
     "text": [
      "[-0.33333334 -0.33333334 -0.33333334]\n",
      "[[ 0.  1.  2.  3.]\n",
      " [ 4.  5.  6.  7.]\n",
      " [ 8.  9. 10. 11.]]\n"
     ]
    }
   ],
   "source": [
    "#     ' int j = _ind.size() ; z = 0*x + 0*y[_ind.size() - i - 1]+i ;',\n",
    "add_reverse = qp.ElementwiseKernel(\n",
    "     'T x, raw T y, int64 w, T DX', 'T z',\n",
    "     ' z = (y[i]-y[i+1])/DX ;',\n",
    "     'add_reverse')\n",
    "t0 = qp.arange(3,dtype=qp.float32)\n",
    "t1 = qp.arange(12,dtype=qp.float32).reshape((3,4))\n",
    "t2 = add_reverse(t0,t1,3,3)\n",
    "print(qp.asnumpy(t2))\n",
    "print(qp.asnumpy(t1))\n",
    "\n",
    "#@qp.fuse()\n",
    "def blockcomp2(B,BMAX,BMIN,DX,kernelMethod=False,xp=qp, NX=NX,NY=NY,nx=nx,ny=ny,overX=overX,overY=overY):\n",
    "\n",
    "    DX = qp.float32(DX)\n",
    "    A = xp.empty((nx,ny),dtype=xp.float32)\n",
    "    \n",
    "    C = xp.empty((nx,ny),dtype=A.dtype)\n",
    "    AMAX = xp.empty((nx,ny),dtype=xp.float32)\n",
    "    AMIN = xp.empty((nx,ny),dtype=xp.float32)\n",
    "    for i in range(0, NX, nx-overX):\n",
    "        for j in range(0, NY,ny-overY):\n",
    "            tmp = B[i:i+nx,j:j+ny]  # subscripts past ends will truncate!\n",
    "            U = tmp.shape           # therefore we need to see what shape really is\n",
    "            A[:U[0],:U[1]] = xp.asarray(tmp)\n",
    "            AP = A[:U[0],:U[1]]\n",
    "            D = C[:U[0],:U[1]]\n",
    "            \n",
    "            amax = AMAX[0:U[0],0:U[1]] =  AP[:,:]  # copy it\n",
    "            amin = AMIN[0:U[0],0:U[1]] =  AP[:,:]  # copy it\n",
    "            \n",
    "            \n",
    "            for s in range(steps):\n",
    "                if kernelMethod:\n",
    "                    D = add_reverse(AP,AP,U[1],DX)\n",
    "                else:\n",
    "                    diffit(AP,D,DX)\n",
    "                AP,D = D,AP\n",
    "\n",
    "                amax[:,:] = xp.maximum(AP,amax)\n",
    "                amin[:,:] = xp.minimum(AP,amin)\n",
    "            tmp[:,:] = qp.asnumpy(AP) # put it back in same home\n",
    "            BMAX[i:i+nx,j:j+ny] = np.maximum( qp.asnumpy(amax),BMAX[i:i+nx,j:j+ny])\n",
    "            BMIN[i:i+nx,j:j+ny] = np.minimum( qp.asnumpy(amin), BMIN[i:i+nx,j:j+ny])\n",
    "                                             \n",
    "blockcomp2(A,AMAX,AMIN,2)       "
   ]
  },
  {
   "cell_type": "code",
   "execution_count": 7,
   "metadata": {},
   "outputs": [],
   "source": [
    "steps=50"
   ]
  },
  {
   "cell_type": "code",
   "execution_count": 8,
   "metadata": {},
   "outputs": [
    {
     "name": "stdout",
     "output_type": "stream",
     "text": [
      "12.9 s ± 13.5 ms per loop (mean ± std. dev. of 7 runs, 1 loop each)\n"
     ]
    }
   ],
   "source": [
    "%timeit blockcomp2(A,AMAX,AMIN,2,kernelMethod=True,ny=int(ny*5))"
   ]
  },
  {
   "cell_type": "code",
   "execution_count": 9,
   "metadata": {},
   "outputs": [
    {
     "name": "stdout",
     "output_type": "stream",
     "text": [
      "12.2 s ± 18.3 ms per loop (mean ± std. dev. of 7 runs, 1 loop each)\n"
     ]
    }
   ],
   "source": [
    "\n",
    "\n",
    "%timeit blockcomp2(A,AMAX,AMIN,2,kernelMethod=False)"
   ]
  },
  {
   "cell_type": "code",
   "execution_count": null,
   "metadata": {},
   "outputs": [],
   "source": [
    "\n",
    "%timeit blockcomp2(A,AMAX,AMIN,2,kernelMethod=False,xp=np)"
   ]
  },
  {
   "cell_type": "code",
   "execution_count": null,
   "metadata": {},
   "outputs": [],
   "source": [
    "%timeit diffit(A,AMAX,DX)"
   ]
  },
  {
   "cell_type": "code",
   "execution_count": null,
   "metadata": {},
   "outputs": [],
   "source": [
    "add_reverse = qp.ElementwiseKernel(\n",
    "     'T x, raw T y, int64 w', 'T z',\n",
    "     ' z = y[i]-y[i+w] ;',\n",
    "     'add_reverse')\n",
    "t0 = qp.arange(3,dtype=qp.float32)\n",
    "t1 = qp.arange(12,dtype=qp.float32).reshape((3,4))\n",
    "t2 = add_reverse(t1,t1,4)\n",
    "print(qp.asnumpy(t2))\n",
    "print(qp.asnumpy(t1))"
   ]
  },
  {
   "cell_type": "code",
   "execution_count": null,
   "metadata": {},
   "outputs": [],
   "source": [
    "t2 = add_reverse"
   ]
  },
  {
   "cell_type": "code",
   "execution_count": null,
   "metadata": {},
   "outputs": [],
   "source": []
  }
 ],
 "metadata": {
  "kernelspec": {
   "display_name": "Python 3",
   "language": "python",
   "name": "python3"
  },
  "language_info": {
   "codemirror_mode": {
    "name": "ipython",
    "version": 3
   },
   "file_extension": ".py",
   "mimetype": "text/x-python",
   "name": "python",
   "nbconvert_exporter": "python",
   "pygments_lexer": "ipython3",
   "version": "3.7.1"
  }
 },
 "nbformat": 4,
 "nbformat_minor": 2
}
